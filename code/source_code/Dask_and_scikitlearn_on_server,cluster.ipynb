{
 "cells": [
  {
   "cell_type": "code",
   "execution_count": 61,
   "metadata": {},
   "outputs": [],
   "source": [
    "#\n",
    "#Loading necessary modules\n",
    "#\n",
    "\n",
    "import os\n",
    "from sklearn.ensemble import RandomForestClassifier as RF_SK\n",
    "from sklearn.model_selection import train_test_split as train_test_split_sk\n",
    "from sklearn.metrics import accuracy_score\n",
    "import pandas as pd\n",
    "from sklearn.externals.joblib import parallel_backend\n",
    "sk_rf = RF_SK(n_jobs=-1, n_estimators=50)\n",
    "root = os.getcwd\n",
    "project_hpc = os.path.join(root, '../'\n",
    "import matplotlib.pyplot as plt\n",
    "# data_hpc_protocol = os.path.join(project_hpc,\"PAMAP2_Dataset/Protocol\")\n",
    "data_hpc_protocol = os.path.join(project_hpc,\"input_data\")\n",
    "data_hpc_protocol_csv = os.path.join(project_hpc,\"input_data\")\n",
    "# data_hpc_protocol_csv = os.path.join(data_hpc_protocol,'csv_files')\n",
    "# data_hpc_protocol_cleaned_csv = os.path.join(project_hpc, 'input_data/combined_patient_csv_file_cleaned.csv')"
   ]
  },
  {
   "cell_type": "code",
   "execution_count": 2,
   "metadata": {},
   "outputs": [],
   "source": [
    "#\n",
    "#Setting up dask cluster environment\n",
    "#\n",
    "#\n",
    "from dask.distributed import Client,progress, wait\n",
    "client = Client('172.16.0.70:8786')\n"
   ]
  },
  {
   "cell_type": "code",
   "execution_count": 31,
   "metadata": {},
   "outputs": [
    {
     "name": "stdout",
     "output_type": "stream",
     "text": [
      "The memory_profiler extension is already loaded. To reload it, use:\n",
      "  %reload_ext memory_profiler\n"
     ]
    }
   ],
   "source": [
    "%load_ext memory_profiler"
   ]
  },
  {
   "cell_type": "code",
   "execution_count": 3,
   "metadata": {},
   "outputs": [
    {
     "data": {
      "text/html": [
       "<table style=\"border: 2px solid white;\">\n",
       "<tr>\n",
       "<td style=\"vertical-align: top; border: 0px solid white\">\n",
       "<h3>Client</h3>\n",
       "<ul>\n",
       "  <li><b>Scheduler: </b>tcp://172.16.0.70:8786\n",
       "  <li><b>Dashboard: </b><a href='http://172.16.0.70:8787/status' target='_blank'>http://172.16.0.70:8787/status</a>\n",
       "</ul>\n",
       "</td>\n",
       "<td style=\"vertical-align: top; border: 0px solid white\">\n",
       "<h3>Cluster</h3>\n",
       "<ul>\n",
       "  <li><b>Workers: </b>4</li>\n",
       "  <li><b>Cores: </b>192</li>\n",
       "  <li><b>Memory: </b>539.65 GB</li>\n",
       "</ul>\n",
       "</td>\n",
       "</tr>\n",
       "</table>"
      ],
      "text/plain": [
       "<Client: scheduler='tcp://172.16.0.70:8786' processes=4 cores=192>"
      ]
     },
     "execution_count": 3,
     "metadata": {},
     "output_type": "execute_result"
    }
   ],
   "source": [
    "client"
   ]
  },
  {
   "cell_type": "markdown",
   "metadata": {},
   "source": [
    "# Reading data"
   ]
  },
  {
   "cell_type": "code",
   "execution_count": 10,
   "metadata": {},
   "outputs": [
    {
     "name": "stdout",
     "output_type": "stream",
     "text": [
      "CPU times: user 1min 51s, sys: 14.7 s, total: 2min 6s\n",
      "Wall time: 22.9 s\n"
     ]
    }
   ],
   "source": [
    "%%time\n",
    "#\n",
    "#Reading patients data csv files using pandas dataframe:\n",
    "#\n",
    "\n",
    "import dask.dataframe as df\n",
    "\n",
    "for idx, patient_file in enumerate(os.listdir(data_hpc_protocol_csv)):\n",
    "    if idx == 0:\n",
    "        df = pd.read_csv(os.path.join(data_hpc_protocol_csv,patient_file)\n",
    "                                                                  , header = None)\n",
    "        patient_all_pd = df\n",
    "    else:\n",
    "        df = pd.read_csv(os.path.join(data_hpc_protocol_csv,patient_file)\n",
    "                                                                  , header = None)\n",
    "        patient_all_pd = patient_all_pd.append(df)\n",
    "\n",
    "# patient_all_pd.to_csv(os.path.join(root,'input_data', 'combined_patient_csv_file'))\n",
    "     "
   ]
  },
  {
   "cell_type": "code",
   "execution_count": 12,
   "metadata": {},
   "outputs": [
    {
     "data": {
      "text/plain": [
       "(2872533, 54)"
      ]
     },
     "execution_count": 12,
     "metadata": {},
     "output_type": "execute_result"
    }
   ],
   "source": [
    "patient_all_pd.shape"
   ]
  },
  {
   "cell_type": "code",
   "execution_count": 13,
   "metadata": {},
   "outputs": [],
   "source": [
    "#\n",
    "#Manipulating column names\n",
    "#\n",
    "imus = [str('imu_' + str(x)) for x in list(range(51))]\n",
    "col_names = ['time_stamp', 'activity_id', 'heart_rate_bpm']\n",
    "col_names = col_names + imus\n",
    "# patient_all_pd.columns = col_names"
   ]
  },
  {
   "cell_type": "code",
   "execution_count": 22,
   "metadata": {
    "collapsed": true
   },
   "outputs": [
    {
     "data": {
      "text/plain": [
       "['time_stamp',\n",
       " 'activity_id',\n",
       " 'heart_rate_bpm',\n",
       " 'imu_0',\n",
       " 'imu_1',\n",
       " 'imu_2',\n",
       " 'imu_3',\n",
       " 'imu_4',\n",
       " 'imu_5',\n",
       " 'imu_6',\n",
       " 'imu_7',\n",
       " 'imu_8',\n",
       " 'imu_9',\n",
       " 'imu_10',\n",
       " 'imu_11',\n",
       " 'imu_12',\n",
       " 'imu_13',\n",
       " 'imu_14',\n",
       " 'imu_15',\n",
       " 'imu_16',\n",
       " 'imu_17',\n",
       " 'imu_18',\n",
       " 'imu_19',\n",
       " 'imu_20',\n",
       " 'imu_21',\n",
       " 'imu_22',\n",
       " 'imu_23',\n",
       " 'imu_24',\n",
       " 'imu_25',\n",
       " 'imu_26',\n",
       " 'imu_27',\n",
       " 'imu_28',\n",
       " 'imu_29',\n",
       " 'imu_30',\n",
       " 'imu_31',\n",
       " 'imu_32',\n",
       " 'imu_33',\n",
       " 'imu_34',\n",
       " 'imu_35',\n",
       " 'imu_36',\n",
       " 'imu_37',\n",
       " 'imu_38',\n",
       " 'imu_39',\n",
       " 'imu_40',\n",
       " 'imu_41',\n",
       " 'imu_42',\n",
       " 'imu_43',\n",
       " 'imu_44',\n",
       " 'imu_45',\n",
       " 'imu_46',\n",
       " 'imu_47',\n",
       " 'imu_48',\n",
       " 'imu_49',\n",
       " 'imu_50']"
      ]
     },
     "execution_count": 22,
     "metadata": {},
     "output_type": "execute_result"
    }
   ],
   "source": [
    "col_names"
   ]
  },
  {
   "cell_type": "code",
   "execution_count": 23,
   "metadata": {},
   "outputs": [
    {
     "name": "stdout",
     "output_type": "stream",
     "text": [
      "CPU times: user 96.2 ms, sys: 2.83 ms, total: 99.1 ms\n",
      "Wall time: 102 ms\n"
     ]
    }
   ],
   "source": [
    "%%time\n",
    "#\n",
    "#Reading data using dask's dataframe\n",
    "#\n",
    "\n",
    "import dask.dataframe as dd\n",
    "\n",
    "patient_all_df = dd.read_csv(os.path.join(data_hpc_protocol_csv, '*.csv'),\n",
    "                  storage_options={'anon': True})\n",
    "patient_all_df.columns = col_names\n",
    "progress(patient_all_df)"
   ]
  },
  {
   "cell_type": "code",
   "execution_count": 14,
   "metadata": {},
   "outputs": [
    {
     "data": {
      "text/html": [
       "<div>\n",
       "<style scoped>\n",
       "    .dataframe tbody tr th:only-of-type {\n",
       "        vertical-align: middle;\n",
       "    }\n",
       "\n",
       "    .dataframe tbody tr th {\n",
       "        vertical-align: top;\n",
       "    }\n",
       "\n",
       "    .dataframe thead th {\n",
       "        text-align: right;\n",
       "    }\n",
       "</style>\n",
       "<table border=\"1\" class=\"dataframe\">\n",
       "  <thead>\n",
       "    <tr style=\"text-align: right;\">\n",
       "      <th></th>\n",
       "      <th>time_stamp</th>\n",
       "      <th>activity_id</th>\n",
       "      <th>heart_rate_bpm</th>\n",
       "      <th>imu_0</th>\n",
       "      <th>imu_1</th>\n",
       "      <th>imu_2</th>\n",
       "      <th>imu_3</th>\n",
       "      <th>imu_4</th>\n",
       "      <th>imu_5</th>\n",
       "      <th>imu_6</th>\n",
       "      <th>...</th>\n",
       "      <th>imu_41</th>\n",
       "      <th>imu_42</th>\n",
       "      <th>imu_43</th>\n",
       "      <th>imu_44</th>\n",
       "      <th>imu_45</th>\n",
       "      <th>imu_46</th>\n",
       "      <th>imu_47</th>\n",
       "      <th>imu_48</th>\n",
       "      <th>imu_49</th>\n",
       "      <th>imu_50</th>\n",
       "    </tr>\n",
       "  </thead>\n",
       "  <tbody>\n",
       "    <tr>\n",
       "      <th>0</th>\n",
       "      <td>5.71</td>\n",
       "      <td>0</td>\n",
       "      <td>NaN</td>\n",
       "      <td>31.75</td>\n",
       "      <td>-1.54309</td>\n",
       "      <td>5.78581</td>\n",
       "      <td>7.73342</td>\n",
       "      <td>-1.58707</td>\n",
       "      <td>5.77449</td>\n",
       "      <td>7.89554</td>\n",
       "      <td>...</td>\n",
       "      <td>0.024932</td>\n",
       "      <td>-0.033188</td>\n",
       "      <td>0.018301</td>\n",
       "      <td>-46.7519</td>\n",
       "      <td>19.7154</td>\n",
       "      <td>9.44721</td>\n",
       "      <td>0.420604</td>\n",
       "      <td>0.506287</td>\n",
       "      <td>0.601928</td>\n",
       "      <td>0.452159</td>\n",
       "    </tr>\n",
       "    <tr>\n",
       "      <th>1</th>\n",
       "      <td>5.72</td>\n",
       "      <td>0</td>\n",
       "      <td>NaN</td>\n",
       "      <td>31.75</td>\n",
       "      <td>-1.69986</td>\n",
       "      <td>5.55834</td>\n",
       "      <td>7.61638</td>\n",
       "      <td>-1.57213</td>\n",
       "      <td>5.75928</td>\n",
       "      <td>7.89556</td>\n",
       "      <td>...</td>\n",
       "      <td>-0.015505</td>\n",
       "      <td>0.036956</td>\n",
       "      <td>-0.014232</td>\n",
       "      <td>-46.5148</td>\n",
       "      <td>20.3460</td>\n",
       "      <td>9.02181</td>\n",
       "      <td>0.424410</td>\n",
       "      <td>0.504851</td>\n",
       "      <td>0.601741</td>\n",
       "      <td>0.450455</td>\n",
       "    </tr>\n",
       "    <tr>\n",
       "      <th>2</th>\n",
       "      <td>5.73</td>\n",
       "      <td>0</td>\n",
       "      <td>NaN</td>\n",
       "      <td>31.75</td>\n",
       "      <td>-1.54603</td>\n",
       "      <td>5.55784</td>\n",
       "      <td>7.69566</td>\n",
       "      <td>-1.57276</td>\n",
       "      <td>5.72904</td>\n",
       "      <td>7.85033</td>\n",
       "      <td>...</td>\n",
       "      <td>0.019024</td>\n",
       "      <td>0.022195</td>\n",
       "      <td>0.010928</td>\n",
       "      <td>-46.4840</td>\n",
       "      <td>19.1874</td>\n",
       "      <td>9.59060</td>\n",
       "      <td>0.421472</td>\n",
       "      <td>0.506134</td>\n",
       "      <td>0.601398</td>\n",
       "      <td>0.452228</td>\n",
       "    </tr>\n",
       "    <tr>\n",
       "      <th>3</th>\n",
       "      <td>5.74</td>\n",
       "      <td>0</td>\n",
       "      <td>NaN</td>\n",
       "      <td>31.75</td>\n",
       "      <td>-1.57954</td>\n",
       "      <td>5.59708</td>\n",
       "      <td>7.81049</td>\n",
       "      <td>-1.51222</td>\n",
       "      <td>5.75881</td>\n",
       "      <td>7.85020</td>\n",
       "      <td>...</td>\n",
       "      <td>0.012959</td>\n",
       "      <td>-0.004018</td>\n",
       "      <td>-0.026358</td>\n",
       "      <td>-47.5172</td>\n",
       "      <td>19.6244</td>\n",
       "      <td>9.30279</td>\n",
       "      <td>0.421292</td>\n",
       "      <td>0.506310</td>\n",
       "      <td>0.599558</td>\n",
       "      <td>0.454636</td>\n",
       "    </tr>\n",
       "    <tr>\n",
       "      <th>4</th>\n",
       "      <td>5.75</td>\n",
       "      <td>0</td>\n",
       "      <td>NaN</td>\n",
       "      <td>31.75</td>\n",
       "      <td>-1.51225</td>\n",
       "      <td>5.55654</td>\n",
       "      <td>7.58071</td>\n",
       "      <td>-1.46764</td>\n",
       "      <td>5.72824</td>\n",
       "      <td>7.80492</td>\n",
       "      <td>...</td>\n",
       "      <td>0.073998</td>\n",
       "      <td>-0.041724</td>\n",
       "      <td>-0.006069</td>\n",
       "      <td>-47.5133</td>\n",
       "      <td>19.8842</td>\n",
       "      <td>10.15350</td>\n",
       "      <td>0.419774</td>\n",
       "      <td>0.508406</td>\n",
       "      <td>0.597869</td>\n",
       "      <td>0.455923</td>\n",
       "    </tr>\n",
       "  </tbody>\n",
       "</table>\n",
       "<p>5 rows × 54 columns</p>\n",
       "</div>"
      ],
      "text/plain": [
       "   time_stamp  activity_id  heart_rate_bpm  imu_0    imu_1    imu_2    imu_3  \\\n",
       "0        5.71            0             NaN  31.75 -1.54309  5.78581  7.73342   \n",
       "1        5.72            0             NaN  31.75 -1.69986  5.55834  7.61638   \n",
       "2        5.73            0             NaN  31.75 -1.54603  5.55784  7.69566   \n",
       "3        5.74            0             NaN  31.75 -1.57954  5.59708  7.81049   \n",
       "4        5.75            0             NaN  31.75 -1.51225  5.55654  7.58071   \n",
       "\n",
       "     imu_4    imu_5    imu_6    ...       imu_41    imu_42    imu_43   imu_44  \\\n",
       "0 -1.58707  5.77449  7.89554    ...     0.024932 -0.033188  0.018301 -46.7519   \n",
       "1 -1.57213  5.75928  7.89556    ...    -0.015505  0.036956 -0.014232 -46.5148   \n",
       "2 -1.57276  5.72904  7.85033    ...     0.019024  0.022195  0.010928 -46.4840   \n",
       "3 -1.51222  5.75881  7.85020    ...     0.012959 -0.004018 -0.026358 -47.5172   \n",
       "4 -1.46764  5.72824  7.80492    ...     0.073998 -0.041724 -0.006069 -47.5133   \n",
       "\n",
       "    imu_45    imu_46    imu_47    imu_48    imu_49    imu_50  \n",
       "0  19.7154   9.44721  0.420604  0.506287  0.601928  0.452159  \n",
       "1  20.3460   9.02181  0.424410  0.504851  0.601741  0.450455  \n",
       "2  19.1874   9.59060  0.421472  0.506134  0.601398  0.452228  \n",
       "3  19.6244   9.30279  0.421292  0.506310  0.599558  0.454636  \n",
       "4  19.8842  10.15350  0.419774  0.508406  0.597869  0.455923  \n",
       "\n",
       "[5 rows x 54 columns]"
      ]
     },
     "execution_count": 14,
     "metadata": {},
     "output_type": "execute_result"
    }
   ],
   "source": [
    "patient_all_pd.head()"
   ]
  },
  {
   "cell_type": "markdown",
   "metadata": {},
   "source": [
    "# Analyzing heart rate data "
   ]
  },
  {
   "cell_type": "code",
   "execution_count": 53,
   "metadata": {},
   "outputs": [],
   "source": [
    "heart_rate_df = patient_all_pd[['activity_id', 'heart_rate_bpm']]"
   ]
  },
  {
   "cell_type": "code",
   "execution_count": 54,
   "metadata": {},
   "outputs": [
    {
     "data": {
      "text/html": [
       "<div>\n",
       "<style scoped>\n",
       "    .dataframe tbody tr th:only-of-type {\n",
       "        vertical-align: middle;\n",
       "    }\n",
       "\n",
       "    .dataframe tbody tr th {\n",
       "        vertical-align: top;\n",
       "    }\n",
       "\n",
       "    .dataframe thead th {\n",
       "        text-align: right;\n",
       "    }\n",
       "</style>\n",
       "<table border=\"1\" class=\"dataframe\">\n",
       "  <thead>\n",
       "    <tr style=\"text-align: right;\">\n",
       "      <th></th>\n",
       "      <th>activity_id</th>\n",
       "      <th>heart_rate_bpm</th>\n",
       "    </tr>\n",
       "  </thead>\n",
       "  <tbody>\n",
       "    <tr>\n",
       "      <th>0</th>\n",
       "      <td>0</td>\n",
       "      <td>NaN</td>\n",
       "    </tr>\n",
       "    <tr>\n",
       "      <th>1</th>\n",
       "      <td>0</td>\n",
       "      <td>NaN</td>\n",
       "    </tr>\n",
       "    <tr>\n",
       "      <th>2</th>\n",
       "      <td>0</td>\n",
       "      <td>NaN</td>\n",
       "    </tr>\n",
       "    <tr>\n",
       "      <th>3</th>\n",
       "      <td>0</td>\n",
       "      <td>NaN</td>\n",
       "    </tr>\n",
       "    <tr>\n",
       "      <th>4</th>\n",
       "      <td>0</td>\n",
       "      <td>NaN</td>\n",
       "    </tr>\n",
       "  </tbody>\n",
       "</table>\n",
       "</div>"
      ],
      "text/plain": [
       "   activity_id  heart_rate_bpm\n",
       "0            0             NaN\n",
       "1            0             NaN\n",
       "2            0             NaN\n",
       "3            0             NaN\n",
       "4            0             NaN"
      ]
     },
     "execution_count": 54,
     "metadata": {},
     "output_type": "execute_result"
    }
   ],
   "source": [
    "heart_rate_df.head()"
   ]
  },
  {
   "cell_type": "markdown",
   "metadata": {},
   "source": [
    "# Preprocessing the data"
   ]
  },
  {
   "cell_type": "code",
   "execution_count": 49,
   "metadata": {
    "collapsed": true
   },
   "outputs": [
    {
     "name": "stdout",
     "output_type": "stream",
     "text": [
      "CPU times: user 2min 47s, sys: 867 ms, total: 2min 48s\n",
      "Wall time: 2min 59s\n"
     ]
    }
   ],
   "source": [
    "%%time\n",
    "#\n",
    "#Removing the time stamp colums and heart_rate_bpm column wih many missing values missing values \n",
    "#as they are very small amount compared to the size of the data\n",
    "#and won't have have any effect on the performance of training model\n",
    "#\n",
    "patient_all_pd.drop(columns = ['time_stamp','heart_rate_bpm'], axis =1, inplace = True)\n",
    "patient_all_pd.dropna(inplace = True)\n",
    "\n",
    "\n",
    "#Storing the cleaned dataset in csv file\n",
    "patient_all_pd.to_csv(os.path.join(root,'input_data', 'combined_patient_csv_file_cleaned.csv'), index=False)\n",
    "# del patient_all_pd"
   ]
  },
  {
   "cell_type": "code",
   "execution_count": 37,
   "metadata": {
    "collapsed": true
   },
   "outputs": [
    {
     "data": {
      "text/html": [
       "<div>\n",
       "<style scoped>\n",
       "    .dataframe tbody tr th:only-of-type {\n",
       "        vertical-align: middle;\n",
       "    }\n",
       "\n",
       "    .dataframe tbody tr th {\n",
       "        vertical-align: top;\n",
       "    }\n",
       "\n",
       "    .dataframe thead th {\n",
       "        text-align: right;\n",
       "    }\n",
       "</style>\n",
       "<table border=\"1\" class=\"dataframe\">\n",
       "  <thead>\n",
       "    <tr style=\"text-align: right;\">\n",
       "      <th></th>\n",
       "      <th>activity_id</th>\n",
       "      <th>imu_0</th>\n",
       "      <th>imu_1</th>\n",
       "      <th>imu_2</th>\n",
       "      <th>imu_3</th>\n",
       "      <th>imu_4</th>\n",
       "      <th>imu_5</th>\n",
       "      <th>imu_6</th>\n",
       "      <th>imu_7</th>\n",
       "      <th>imu_8</th>\n",
       "      <th>...</th>\n",
       "      <th>imu_41</th>\n",
       "      <th>imu_42</th>\n",
       "      <th>imu_43</th>\n",
       "      <th>imu_44</th>\n",
       "      <th>imu_45</th>\n",
       "      <th>imu_46</th>\n",
       "      <th>imu_47</th>\n",
       "      <th>imu_48</th>\n",
       "      <th>imu_49</th>\n",
       "      <th>imu_50</th>\n",
       "    </tr>\n",
       "  </thead>\n",
       "  <tbody>\n",
       "    <tr>\n",
       "      <th>0</th>\n",
       "      <td>0</td>\n",
       "      <td>31.75</td>\n",
       "      <td>-1.54309</td>\n",
       "      <td>5.78581</td>\n",
       "      <td>7.73342</td>\n",
       "      <td>-1.58707</td>\n",
       "      <td>5.77449</td>\n",
       "      <td>7.89554</td>\n",
       "      <td>-0.028974</td>\n",
       "      <td>0.047977</td>\n",
       "      <td>...</td>\n",
       "      <td>0.024932</td>\n",
       "      <td>-0.033188</td>\n",
       "      <td>0.018301</td>\n",
       "      <td>-46.7519</td>\n",
       "      <td>19.7154</td>\n",
       "      <td>9.44721</td>\n",
       "      <td>0.420604</td>\n",
       "      <td>0.506287</td>\n",
       "      <td>0.601928</td>\n",
       "      <td>0.452159</td>\n",
       "    </tr>\n",
       "    <tr>\n",
       "      <th>1</th>\n",
       "      <td>0</td>\n",
       "      <td>31.75</td>\n",
       "      <td>-1.69986</td>\n",
       "      <td>5.55834</td>\n",
       "      <td>7.61638</td>\n",
       "      <td>-1.57213</td>\n",
       "      <td>5.75928</td>\n",
       "      <td>7.89556</td>\n",
       "      <td>0.000358</td>\n",
       "      <td>0.026022</td>\n",
       "      <td>...</td>\n",
       "      <td>-0.015505</td>\n",
       "      <td>0.036956</td>\n",
       "      <td>-0.014232</td>\n",
       "      <td>-46.5148</td>\n",
       "      <td>20.3460</td>\n",
       "      <td>9.02181</td>\n",
       "      <td>0.424410</td>\n",
       "      <td>0.504851</td>\n",
       "      <td>0.601741</td>\n",
       "      <td>0.450455</td>\n",
       "    </tr>\n",
       "    <tr>\n",
       "      <th>2</th>\n",
       "      <td>0</td>\n",
       "      <td>31.75</td>\n",
       "      <td>-1.54603</td>\n",
       "      <td>5.55784</td>\n",
       "      <td>7.69566</td>\n",
       "      <td>-1.57276</td>\n",
       "      <td>5.72904</td>\n",
       "      <td>7.85033</td>\n",
       "      <td>0.017085</td>\n",
       "      <td>0.011208</td>\n",
       "      <td>...</td>\n",
       "      <td>0.019024</td>\n",
       "      <td>0.022195</td>\n",
       "      <td>0.010928</td>\n",
       "      <td>-46.4840</td>\n",
       "      <td>19.1874</td>\n",
       "      <td>9.59060</td>\n",
       "      <td>0.421472</td>\n",
       "      <td>0.506134</td>\n",
       "      <td>0.601398</td>\n",
       "      <td>0.452228</td>\n",
       "    </tr>\n",
       "    <tr>\n",
       "      <th>3</th>\n",
       "      <td>0</td>\n",
       "      <td>31.75</td>\n",
       "      <td>-1.57954</td>\n",
       "      <td>5.59708</td>\n",
       "      <td>7.81049</td>\n",
       "      <td>-1.51222</td>\n",
       "      <td>5.75881</td>\n",
       "      <td>7.85020</td>\n",
       "      <td>0.013649</td>\n",
       "      <td>0.008197</td>\n",
       "      <td>...</td>\n",
       "      <td>0.012959</td>\n",
       "      <td>-0.004018</td>\n",
       "      <td>-0.026358</td>\n",
       "      <td>-47.5172</td>\n",
       "      <td>19.6244</td>\n",
       "      <td>9.30279</td>\n",
       "      <td>0.421292</td>\n",
       "      <td>0.506310</td>\n",
       "      <td>0.599558</td>\n",
       "      <td>0.454636</td>\n",
       "    </tr>\n",
       "    <tr>\n",
       "      <th>4</th>\n",
       "      <td>0</td>\n",
       "      <td>31.75</td>\n",
       "      <td>-1.51225</td>\n",
       "      <td>5.55654</td>\n",
       "      <td>7.58071</td>\n",
       "      <td>-1.46764</td>\n",
       "      <td>5.72824</td>\n",
       "      <td>7.80492</td>\n",
       "      <td>-0.014763</td>\n",
       "      <td>-0.006078</td>\n",
       "      <td>...</td>\n",
       "      <td>0.073998</td>\n",
       "      <td>-0.041724</td>\n",
       "      <td>-0.006069</td>\n",
       "      <td>-47.5133</td>\n",
       "      <td>19.8842</td>\n",
       "      <td>10.15350</td>\n",
       "      <td>0.419774</td>\n",
       "      <td>0.508406</td>\n",
       "      <td>0.597869</td>\n",
       "      <td>0.455923</td>\n",
       "    </tr>\n",
       "  </tbody>\n",
       "</table>\n",
       "<p>5 rows × 52 columns</p>\n",
       "</div>"
      ],
      "text/plain": [
       "   activity_id  imu_0    imu_1    imu_2    imu_3    imu_4    imu_5    imu_6  \\\n",
       "0            0  31.75 -1.54309  5.78581  7.73342 -1.58707  5.77449  7.89554   \n",
       "1            0  31.75 -1.69986  5.55834  7.61638 -1.57213  5.75928  7.89556   \n",
       "2            0  31.75 -1.54603  5.55784  7.69566 -1.57276  5.72904  7.85033   \n",
       "3            0  31.75 -1.57954  5.59708  7.81049 -1.51222  5.75881  7.85020   \n",
       "4            0  31.75 -1.51225  5.55654  7.58071 -1.46764  5.72824  7.80492   \n",
       "\n",
       "      imu_7     imu_8    ...       imu_41    imu_42    imu_43   imu_44  \\\n",
       "0 -0.028974  0.047977    ...     0.024932 -0.033188  0.018301 -46.7519   \n",
       "1  0.000358  0.026022    ...    -0.015505  0.036956 -0.014232 -46.5148   \n",
       "2  0.017085  0.011208    ...     0.019024  0.022195  0.010928 -46.4840   \n",
       "3  0.013649  0.008197    ...     0.012959 -0.004018 -0.026358 -47.5172   \n",
       "4 -0.014763 -0.006078    ...     0.073998 -0.041724 -0.006069 -47.5133   \n",
       "\n",
       "    imu_45    imu_46    imu_47    imu_48    imu_49    imu_50  \n",
       "0  19.7154   9.44721  0.420604  0.506287  0.601928  0.452159  \n",
       "1  20.3460   9.02181  0.424410  0.504851  0.601741  0.450455  \n",
       "2  19.1874   9.59060  0.421472  0.506134  0.601398  0.452228  \n",
       "3  19.6244   9.30279  0.421292  0.506310  0.599558  0.454636  \n",
       "4  19.8842  10.15350  0.419774  0.508406  0.597869  0.455923  \n",
       "\n",
       "[5 rows x 52 columns]"
      ]
     },
     "execution_count": 37,
     "metadata": {},
     "output_type": "execute_result"
    }
   ],
   "source": [
    "patient_all_pd.head()"
   ]
  },
  {
   "cell_type": "code",
   "execution_count": 50,
   "metadata": {},
   "outputs": [
    {
     "name": "stdout",
     "output_type": "stream",
     "text": [
      "CPU times: user 22 s, sys: 2.09 s, total: 24.1 s\n",
      "Wall time: 22 s\n"
     ]
    }
   ],
   "source": [
    "%%time\n",
    "#\n",
    "#Reading cleaned data using pandas\n",
    "#\n",
    "\n",
    "patient_all_pd = pd.read_csv(os.path.join(root,'input_data', 'combined_patient_csv_file_cleaned.csv'))\n",
    "columns  = patient_all_pd.columns"
   ]
  },
  {
   "cell_type": "code",
   "execution_count": 13,
   "metadata": {
    "collapsed": true
   },
   "outputs": [
    {
     "data": {
      "text/html": [
       "<div>\n",
       "<style scoped>\n",
       "    .dataframe tbody tr th:only-of-type {\n",
       "        vertical-align: middle;\n",
       "    }\n",
       "\n",
       "    .dataframe tbody tr th {\n",
       "        vertical-align: top;\n",
       "    }\n",
       "\n",
       "    .dataframe thead th {\n",
       "        text-align: right;\n",
       "    }\n",
       "</style>\n",
       "<table border=\"1\" class=\"dataframe\">\n",
       "  <thead>\n",
       "    <tr style=\"text-align: right;\">\n",
       "      <th></th>\n",
       "      <th>activity_id</th>\n",
       "      <th>imu_0</th>\n",
       "      <th>imu_1</th>\n",
       "      <th>imu_2</th>\n",
       "      <th>imu_3</th>\n",
       "      <th>imu_4</th>\n",
       "      <th>imu_5</th>\n",
       "      <th>imu_6</th>\n",
       "      <th>imu_7</th>\n",
       "      <th>imu_8</th>\n",
       "      <th>...</th>\n",
       "      <th>imu_41</th>\n",
       "      <th>imu_42</th>\n",
       "      <th>imu_43</th>\n",
       "      <th>imu_44</th>\n",
       "      <th>imu_45</th>\n",
       "      <th>imu_46</th>\n",
       "      <th>imu_47</th>\n",
       "      <th>imu_48</th>\n",
       "      <th>imu_49</th>\n",
       "      <th>imu_50</th>\n",
       "    </tr>\n",
       "  </thead>\n",
       "  <tbody>\n",
       "    <tr>\n",
       "      <th>0</th>\n",
       "      <td>0</td>\n",
       "      <td>31.75</td>\n",
       "      <td>-1.54309</td>\n",
       "      <td>5.78581</td>\n",
       "      <td>7.73342</td>\n",
       "      <td>-1.58707</td>\n",
       "      <td>5.77449</td>\n",
       "      <td>7.89554</td>\n",
       "      <td>-0.028974</td>\n",
       "      <td>0.047977</td>\n",
       "      <td>...</td>\n",
       "      <td>0.024932</td>\n",
       "      <td>-0.033188</td>\n",
       "      <td>0.018301</td>\n",
       "      <td>-46.7519</td>\n",
       "      <td>19.7154</td>\n",
       "      <td>9.44721</td>\n",
       "      <td>0.420604</td>\n",
       "      <td>0.506287</td>\n",
       "      <td>0.601928</td>\n",
       "      <td>0.452159</td>\n",
       "    </tr>\n",
       "    <tr>\n",
       "      <th>1</th>\n",
       "      <td>0</td>\n",
       "      <td>31.75</td>\n",
       "      <td>-1.69986</td>\n",
       "      <td>5.55834</td>\n",
       "      <td>7.61638</td>\n",
       "      <td>-1.57213</td>\n",
       "      <td>5.75928</td>\n",
       "      <td>7.89556</td>\n",
       "      <td>0.000358</td>\n",
       "      <td>0.026022</td>\n",
       "      <td>...</td>\n",
       "      <td>-0.015505</td>\n",
       "      <td>0.036956</td>\n",
       "      <td>-0.014232</td>\n",
       "      <td>-46.5148</td>\n",
       "      <td>20.3460</td>\n",
       "      <td>9.02181</td>\n",
       "      <td>0.424410</td>\n",
       "      <td>0.504851</td>\n",
       "      <td>0.601741</td>\n",
       "      <td>0.450455</td>\n",
       "    </tr>\n",
       "    <tr>\n",
       "      <th>2</th>\n",
       "      <td>0</td>\n",
       "      <td>31.75</td>\n",
       "      <td>-1.54603</td>\n",
       "      <td>5.55784</td>\n",
       "      <td>7.69566</td>\n",
       "      <td>-1.57276</td>\n",
       "      <td>5.72904</td>\n",
       "      <td>7.85033</td>\n",
       "      <td>0.017085</td>\n",
       "      <td>0.011208</td>\n",
       "      <td>...</td>\n",
       "      <td>0.019024</td>\n",
       "      <td>0.022195</td>\n",
       "      <td>0.010928</td>\n",
       "      <td>-46.4840</td>\n",
       "      <td>19.1874</td>\n",
       "      <td>9.59060</td>\n",
       "      <td>0.421472</td>\n",
       "      <td>0.506134</td>\n",
       "      <td>0.601398</td>\n",
       "      <td>0.452228</td>\n",
       "    </tr>\n",
       "    <tr>\n",
       "      <th>3</th>\n",
       "      <td>0</td>\n",
       "      <td>31.75</td>\n",
       "      <td>-1.57954</td>\n",
       "      <td>5.59708</td>\n",
       "      <td>7.81049</td>\n",
       "      <td>-1.51222</td>\n",
       "      <td>5.75881</td>\n",
       "      <td>7.85020</td>\n",
       "      <td>0.013648</td>\n",
       "      <td>0.008197</td>\n",
       "      <td>...</td>\n",
       "      <td>0.012959</td>\n",
       "      <td>-0.004018</td>\n",
       "      <td>-0.026358</td>\n",
       "      <td>-47.5172</td>\n",
       "      <td>19.6244</td>\n",
       "      <td>9.30279</td>\n",
       "      <td>0.421292</td>\n",
       "      <td>0.506310</td>\n",
       "      <td>0.599558</td>\n",
       "      <td>0.454636</td>\n",
       "    </tr>\n",
       "    <tr>\n",
       "      <th>4</th>\n",
       "      <td>0</td>\n",
       "      <td>31.75</td>\n",
       "      <td>-1.51225</td>\n",
       "      <td>5.55654</td>\n",
       "      <td>7.58071</td>\n",
       "      <td>-1.46764</td>\n",
       "      <td>5.72824</td>\n",
       "      <td>7.80492</td>\n",
       "      <td>-0.014764</td>\n",
       "      <td>-0.006078</td>\n",
       "      <td>...</td>\n",
       "      <td>0.073998</td>\n",
       "      <td>-0.041724</td>\n",
       "      <td>-0.006069</td>\n",
       "      <td>-47.5133</td>\n",
       "      <td>19.8842</td>\n",
       "      <td>10.15350</td>\n",
       "      <td>0.419774</td>\n",
       "      <td>0.508406</td>\n",
       "      <td>0.597869</td>\n",
       "      <td>0.455923</td>\n",
       "    </tr>\n",
       "  </tbody>\n",
       "</table>\n",
       "<p>5 rows × 52 columns</p>\n",
       "</div>"
      ],
      "text/plain": [
       "   activity_id  imu_0    imu_1    imu_2    imu_3    imu_4    imu_5    imu_6  \\\n",
       "0            0  31.75 -1.54309  5.78581  7.73342 -1.58707  5.77449  7.89554   \n",
       "1            0  31.75 -1.69986  5.55834  7.61638 -1.57213  5.75928  7.89556   \n",
       "2            0  31.75 -1.54603  5.55784  7.69566 -1.57276  5.72904  7.85033   \n",
       "3            0  31.75 -1.57954  5.59708  7.81049 -1.51222  5.75881  7.85020   \n",
       "4            0  31.75 -1.51225  5.55654  7.58071 -1.46764  5.72824  7.80492   \n",
       "\n",
       "      imu_7     imu_8    ...       imu_41    imu_42    imu_43   imu_44  \\\n",
       "0 -0.028974  0.047977    ...     0.024932 -0.033188  0.018301 -46.7519   \n",
       "1  0.000358  0.026022    ...    -0.015505  0.036956 -0.014232 -46.5148   \n",
       "2  0.017085  0.011208    ...     0.019024  0.022195  0.010928 -46.4840   \n",
       "3  0.013648  0.008197    ...     0.012959 -0.004018 -0.026358 -47.5172   \n",
       "4 -0.014764 -0.006078    ...     0.073998 -0.041724 -0.006069 -47.5133   \n",
       "\n",
       "    imu_45    imu_46    imu_47    imu_48    imu_49    imu_50  \n",
       "0  19.7154   9.44721  0.420604  0.506287  0.601928  0.452159  \n",
       "1  20.3460   9.02181  0.424410  0.504851  0.601741  0.450455  \n",
       "2  19.1874   9.59060  0.421472  0.506134  0.601398  0.452228  \n",
       "3  19.6244   9.30279  0.421292  0.506310  0.599558  0.454636  \n",
       "4  19.8842  10.15350  0.419774  0.508406  0.597869  0.455923  \n",
       "\n",
       "[5 rows x 52 columns]"
      ]
     },
     "execution_count": 13,
     "metadata": {},
     "output_type": "execute_result"
    }
   ],
   "source": [
    "patient_all_pd.head()"
   ]
  },
  {
   "cell_type": "code",
   "execution_count": 51,
   "metadata": {},
   "outputs": [
    {
     "data": {
      "text/plain": [
       "(2844868, 52)"
      ]
     },
     "execution_count": 51,
     "metadata": {},
     "output_type": "execute_result"
    }
   ],
   "source": [
    "patient_all_pd.shape"
   ]
  },
  {
   "cell_type": "code",
   "execution_count": 6,
   "metadata": {},
   "outputs": [
    {
     "name": "stdout",
     "output_type": "stream",
     "text": [
      "CPU times: user 174 ms, sys: 16.5 ms, total: 191 ms\n",
      "Wall time: 262 ms\n"
     ]
    }
   ],
   "source": [
    "%%time\n",
    "#\n",
    "#Reading data using dask's dataframe\n",
    "#Doing collection = False will not load the data as Dask data frame, but as a bunch of pandas dataframe that will be located \n",
    "#in some part of the cluster \n",
    "\n",
    "import dask.dataframe as dd\n",
    "patient_all_df = dd.read_csv(data_hpc_protocol_cleaned_csv, collection = False)\n",
    "\n",
    "patient_all_df = client.persist(patient_all_df)\n",
    "\n",
    "progress(patient_all_df)"
   ]
  },
  {
   "cell_type": "code",
   "execution_count": 66,
   "metadata": {},
   "outputs": [
    {
     "name": "stdout",
     "output_type": "stream",
     "text": [
      "CPU times: user 1.66 s, sys: 109 ms, total: 1.77 s\n",
      "Wall time: 1.77 s\n"
     ]
    }
   ],
   "source": [
    "%%time\n",
    "#\n",
    "#Reading data using dask's dataframe\n",
    "#Doing collection = False will not load the data as Dask data frame, but as a bunch of pandas dataframe that will be located \n",
    "#in some part of the cluster \n",
    "\n",
    "import dask.dataframe as dd\n",
    "patient_all_df = dd.from_pandas(patient_all_pd, npartitions = 10)\n",
    "patient_all_df = patient_all_df.persist()\n",
    "progress(patient_all_df)"
   ]
  },
  {
   "cell_type": "code",
   "execution_count": 44,
   "metadata": {},
   "outputs": [],
   "source": [
    "# client.cancel(patient_all_df)\n",
    "# del patient_all_df"
   ]
  },
  {
   "cell_type": "code",
   "execution_count": 67,
   "metadata": {},
   "outputs": [
    {
     "data": {
      "text/plain": [
       "2844868"
      ]
     },
     "execution_count": 67,
     "metadata": {},
     "output_type": "execute_result"
    }
   ],
   "source": [
    "len(patient_all_df)"
   ]
  },
  {
   "cell_type": "code",
   "execution_count": 68,
   "metadata": {},
   "outputs": [
    {
     "data": {
      "text/html": [
       "<div><strong>Dask DataFrame Structure:</strong></div>\n",
       "<div>\n",
       "<style scoped>\n",
       "    .dataframe tbody tr th:only-of-type {\n",
       "        vertical-align: middle;\n",
       "    }\n",
       "\n",
       "    .dataframe tbody tr th {\n",
       "        vertical-align: top;\n",
       "    }\n",
       "\n",
       "    .dataframe thead th {\n",
       "        text-align: right;\n",
       "    }\n",
       "</style>\n",
       "<table border=\"1\" class=\"dataframe\">\n",
       "  <thead>\n",
       "    <tr style=\"text-align: right;\">\n",
       "      <th></th>\n",
       "      <th>activity_id</th>\n",
       "      <th>imu_0</th>\n",
       "      <th>imu_1</th>\n",
       "      <th>imu_2</th>\n",
       "      <th>imu_3</th>\n",
       "      <th>imu_4</th>\n",
       "      <th>imu_5</th>\n",
       "      <th>imu_6</th>\n",
       "      <th>imu_7</th>\n",
       "      <th>imu_8</th>\n",
       "      <th>imu_9</th>\n",
       "      <th>imu_10</th>\n",
       "      <th>imu_11</th>\n",
       "      <th>imu_12</th>\n",
       "      <th>imu_13</th>\n",
       "      <th>imu_14</th>\n",
       "      <th>imu_15</th>\n",
       "      <th>imu_16</th>\n",
       "      <th>imu_17</th>\n",
       "      <th>imu_18</th>\n",
       "      <th>imu_19</th>\n",
       "      <th>imu_20</th>\n",
       "      <th>imu_21</th>\n",
       "      <th>imu_22</th>\n",
       "      <th>imu_23</th>\n",
       "      <th>imu_24</th>\n",
       "      <th>imu_25</th>\n",
       "      <th>imu_26</th>\n",
       "      <th>imu_27</th>\n",
       "      <th>imu_28</th>\n",
       "      <th>imu_29</th>\n",
       "      <th>imu_30</th>\n",
       "      <th>imu_31</th>\n",
       "      <th>imu_32</th>\n",
       "      <th>imu_33</th>\n",
       "      <th>imu_34</th>\n",
       "      <th>imu_35</th>\n",
       "      <th>imu_36</th>\n",
       "      <th>imu_37</th>\n",
       "      <th>imu_38</th>\n",
       "      <th>imu_39</th>\n",
       "      <th>imu_40</th>\n",
       "      <th>imu_41</th>\n",
       "      <th>imu_42</th>\n",
       "      <th>imu_43</th>\n",
       "      <th>imu_44</th>\n",
       "      <th>imu_45</th>\n",
       "      <th>imu_46</th>\n",
       "      <th>imu_47</th>\n",
       "      <th>imu_48</th>\n",
       "      <th>imu_49</th>\n",
       "      <th>imu_50</th>\n",
       "    </tr>\n",
       "    <tr>\n",
       "      <th>npartitions=1</th>\n",
       "      <th></th>\n",
       "      <th></th>\n",
       "      <th></th>\n",
       "      <th></th>\n",
       "      <th></th>\n",
       "      <th></th>\n",
       "      <th></th>\n",
       "      <th></th>\n",
       "      <th></th>\n",
       "      <th></th>\n",
       "      <th></th>\n",
       "      <th></th>\n",
       "      <th></th>\n",
       "      <th></th>\n",
       "      <th></th>\n",
       "      <th></th>\n",
       "      <th></th>\n",
       "      <th></th>\n",
       "      <th></th>\n",
       "      <th></th>\n",
       "      <th></th>\n",
       "      <th></th>\n",
       "      <th></th>\n",
       "      <th></th>\n",
       "      <th></th>\n",
       "      <th></th>\n",
       "      <th></th>\n",
       "      <th></th>\n",
       "      <th></th>\n",
       "      <th></th>\n",
       "      <th></th>\n",
       "      <th></th>\n",
       "      <th></th>\n",
       "      <th></th>\n",
       "      <th></th>\n",
       "      <th></th>\n",
       "      <th></th>\n",
       "      <th></th>\n",
       "      <th></th>\n",
       "      <th></th>\n",
       "      <th></th>\n",
       "      <th></th>\n",
       "      <th></th>\n",
       "      <th></th>\n",
       "      <th></th>\n",
       "      <th></th>\n",
       "      <th></th>\n",
       "      <th></th>\n",
       "      <th></th>\n",
       "      <th></th>\n",
       "      <th></th>\n",
       "      <th></th>\n",
       "    </tr>\n",
       "  </thead>\n",
       "  <tbody>\n",
       "    <tr>\n",
       "      <th>0</th>\n",
       "      <td>int64</td>\n",
       "      <td>float64</td>\n",
       "      <td>float64</td>\n",
       "      <td>float64</td>\n",
       "      <td>float64</td>\n",
       "      <td>float64</td>\n",
       "      <td>float64</td>\n",
       "      <td>float64</td>\n",
       "      <td>float64</td>\n",
       "      <td>float64</td>\n",
       "      <td>float64</td>\n",
       "      <td>float64</td>\n",
       "      <td>float64</td>\n",
       "      <td>float64</td>\n",
       "      <td>float64</td>\n",
       "      <td>float64</td>\n",
       "      <td>float64</td>\n",
       "      <td>float64</td>\n",
       "      <td>float64</td>\n",
       "      <td>float64</td>\n",
       "      <td>float64</td>\n",
       "      <td>float64</td>\n",
       "      <td>float64</td>\n",
       "      <td>float64</td>\n",
       "      <td>float64</td>\n",
       "      <td>float64</td>\n",
       "      <td>float64</td>\n",
       "      <td>float64</td>\n",
       "      <td>float64</td>\n",
       "      <td>float64</td>\n",
       "      <td>float64</td>\n",
       "      <td>float64</td>\n",
       "      <td>float64</td>\n",
       "      <td>float64</td>\n",
       "      <td>float64</td>\n",
       "      <td>float64</td>\n",
       "      <td>float64</td>\n",
       "      <td>float64</td>\n",
       "      <td>float64</td>\n",
       "      <td>float64</td>\n",
       "      <td>float64</td>\n",
       "      <td>float64</td>\n",
       "      <td>float64</td>\n",
       "      <td>float64</td>\n",
       "      <td>float64</td>\n",
       "      <td>float64</td>\n",
       "      <td>float64</td>\n",
       "      <td>float64</td>\n",
       "      <td>float64</td>\n",
       "      <td>float64</td>\n",
       "      <td>float64</td>\n",
       "      <td>float64</td>\n",
       "    </tr>\n",
       "    <tr>\n",
       "      <th>5</th>\n",
       "      <td>...</td>\n",
       "      <td>...</td>\n",
       "      <td>...</td>\n",
       "      <td>...</td>\n",
       "      <td>...</td>\n",
       "      <td>...</td>\n",
       "      <td>...</td>\n",
       "      <td>...</td>\n",
       "      <td>...</td>\n",
       "      <td>...</td>\n",
       "      <td>...</td>\n",
       "      <td>...</td>\n",
       "      <td>...</td>\n",
       "      <td>...</td>\n",
       "      <td>...</td>\n",
       "      <td>...</td>\n",
       "      <td>...</td>\n",
       "      <td>...</td>\n",
       "      <td>...</td>\n",
       "      <td>...</td>\n",
       "      <td>...</td>\n",
       "      <td>...</td>\n",
       "      <td>...</td>\n",
       "      <td>...</td>\n",
       "      <td>...</td>\n",
       "      <td>...</td>\n",
       "      <td>...</td>\n",
       "      <td>...</td>\n",
       "      <td>...</td>\n",
       "      <td>...</td>\n",
       "      <td>...</td>\n",
       "      <td>...</td>\n",
       "      <td>...</td>\n",
       "      <td>...</td>\n",
       "      <td>...</td>\n",
       "      <td>...</td>\n",
       "      <td>...</td>\n",
       "      <td>...</td>\n",
       "      <td>...</td>\n",
       "      <td>...</td>\n",
       "      <td>...</td>\n",
       "      <td>...</td>\n",
       "      <td>...</td>\n",
       "      <td>...</td>\n",
       "      <td>...</td>\n",
       "      <td>...</td>\n",
       "      <td>...</td>\n",
       "      <td>...</td>\n",
       "      <td>...</td>\n",
       "      <td>...</td>\n",
       "      <td>...</td>\n",
       "      <td>...</td>\n",
       "    </tr>\n",
       "  </tbody>\n",
       "</table>\n",
       "</div>\n",
       "<div>Dask Name: loc, 11 tasks</div>"
      ],
      "text/plain": [
       "Dask DataFrame Structure:\n",
       "              activity_id    imu_0    imu_1    imu_2    imu_3    imu_4    imu_5    imu_6    imu_7    imu_8    imu_9   imu_10   imu_11   imu_12   imu_13   imu_14   imu_15   imu_16   imu_17   imu_18   imu_19   imu_20   imu_21   imu_22   imu_23   imu_24   imu_25   imu_26   imu_27   imu_28   imu_29   imu_30   imu_31   imu_32   imu_33   imu_34   imu_35   imu_36   imu_37   imu_38   imu_39   imu_40   imu_41   imu_42   imu_43   imu_44   imu_45   imu_46   imu_47   imu_48   imu_49   imu_50\n",
       "npartitions=1                                                                                                                                                                                                                                                                                                                                                                                                                                                                                       \n",
       "0                   int64  float64  float64  float64  float64  float64  float64  float64  float64  float64  float64  float64  float64  float64  float64  float64  float64  float64  float64  float64  float64  float64  float64  float64  float64  float64  float64  float64  float64  float64  float64  float64  float64  float64  float64  float64  float64  float64  float64  float64  float64  float64  float64  float64  float64  float64  float64  float64  float64  float64  float64  float64\n",
       "5                     ...      ...      ...      ...      ...      ...      ...      ...      ...      ...      ...      ...      ...      ...      ...      ...      ...      ...      ...      ...      ...      ...      ...      ...      ...      ...      ...      ...      ...      ...      ...      ...      ...      ...      ...      ...      ...      ...      ...      ...      ...      ...      ...      ...      ...      ...      ...      ...      ...      ...      ...      ...\n",
       "Dask Name: loc, 11 tasks"
      ]
     },
     "execution_count": 68,
     "metadata": {},
     "output_type": "execute_result"
    }
   ],
   "source": [
    "patient_all_df[:5]"
   ]
  },
  {
   "cell_type": "code",
   "execution_count": 11,
   "metadata": {
    "collapsed": true
   },
   "outputs": [
    {
     "data": {
      "text/html": [
       "<div>\n",
       "<style scoped>\n",
       "    .dataframe tbody tr th:only-of-type {\n",
       "        vertical-align: middle;\n",
       "    }\n",
       "\n",
       "    .dataframe tbody tr th {\n",
       "        vertical-align: top;\n",
       "    }\n",
       "\n",
       "    .dataframe thead th {\n",
       "        text-align: right;\n",
       "    }\n",
       "</style>\n",
       "<table border=\"1\" class=\"dataframe\">\n",
       "  <thead>\n",
       "    <tr style=\"text-align: right;\">\n",
       "      <th></th>\n",
       "      <th>activity_id</th>\n",
       "      <th>imu_0</th>\n",
       "      <th>imu_1</th>\n",
       "      <th>imu_2</th>\n",
       "      <th>imu_3</th>\n",
       "      <th>imu_4</th>\n",
       "      <th>imu_5</th>\n",
       "      <th>imu_6</th>\n",
       "      <th>imu_7</th>\n",
       "      <th>imu_8</th>\n",
       "      <th>...</th>\n",
       "      <th>imu_41</th>\n",
       "      <th>imu_42</th>\n",
       "      <th>imu_43</th>\n",
       "      <th>imu_44</th>\n",
       "      <th>imu_45</th>\n",
       "      <th>imu_46</th>\n",
       "      <th>imu_47</th>\n",
       "      <th>imu_48</th>\n",
       "      <th>imu_49</th>\n",
       "      <th>imu_50</th>\n",
       "    </tr>\n",
       "  </thead>\n",
       "  <tbody>\n",
       "    <tr>\n",
       "      <th>110914</th>\n",
       "      <td>0</td>\n",
       "      <td>33.625</td>\n",
       "      <td>-7.89597</td>\n",
       "      <td>2.77467</td>\n",
       "      <td>4.87733</td>\n",
       "      <td>-7.61802</td>\n",
       "      <td>2.82523</td>\n",
       "      <td>5.17494</td>\n",
       "      <td>0.030347</td>\n",
       "      <td>-0.032241</td>\n",
       "      <td>...</td>\n",
       "      <td>-0.008660</td>\n",
       "      <td>-0.017440</td>\n",
       "      <td>0.011271</td>\n",
       "      <td>-42.7926</td>\n",
       "      <td>8.03642</td>\n",
       "      <td>45.2164</td>\n",
       "      <td>0.068204</td>\n",
       "      <td>0.745913</td>\n",
       "      <td>0.160385</td>\n",
       "      <td>0.642836</td>\n",
       "    </tr>\n",
       "    <tr>\n",
       "      <th>110915</th>\n",
       "      <td>0</td>\n",
       "      <td>33.625</td>\n",
       "      <td>-7.81023</td>\n",
       "      <td>2.89026</td>\n",
       "      <td>5.14764</td>\n",
       "      <td>-7.63271</td>\n",
       "      <td>2.87064</td>\n",
       "      <td>5.17485</td>\n",
       "      <td>0.077752</td>\n",
       "      <td>-0.026316</td>\n",
       "      <td>...</td>\n",
       "      <td>-0.051593</td>\n",
       "      <td>-0.026622</td>\n",
       "      <td>-0.002320</td>\n",
       "      <td>-43.5512</td>\n",
       "      <td>7.55844</td>\n",
       "      <td>44.9306</td>\n",
       "      <td>0.067938</td>\n",
       "      <td>0.746003</td>\n",
       "      <td>0.160241</td>\n",
       "      <td>0.642796</td>\n",
       "    </tr>\n",
       "    <tr>\n",
       "      <th>110916</th>\n",
       "      <td>0</td>\n",
       "      <td>33.625</td>\n",
       "      <td>-7.89142</td>\n",
       "      <td>2.85156</td>\n",
       "      <td>4.99260</td>\n",
       "      <td>-7.60231</td>\n",
       "      <td>2.91572</td>\n",
       "      <td>5.15962</td>\n",
       "      <td>0.072759</td>\n",
       "      <td>-0.017362</td>\n",
       "      <td>...</td>\n",
       "      <td>-0.001825</td>\n",
       "      <td>0.009911</td>\n",
       "      <td>0.008395</td>\n",
       "      <td>-43.5414</td>\n",
       "      <td>7.17214</td>\n",
       "      <td>45.0729</td>\n",
       "      <td>0.067767</td>\n",
       "      <td>0.745992</td>\n",
       "      <td>0.160180</td>\n",
       "      <td>0.642843</td>\n",
       "    </tr>\n",
       "    <tr>\n",
       "      <th>110917</th>\n",
       "      <td>0</td>\n",
       "      <td>33.625</td>\n",
       "      <td>-7.89142</td>\n",
       "      <td>2.85156</td>\n",
       "      <td>4.99260</td>\n",
       "      <td>-7.69197</td>\n",
       "      <td>2.99189</td>\n",
       "      <td>5.17465</td>\n",
       "      <td>0.034680</td>\n",
       "      <td>-0.032184</td>\n",
       "      <td>...</td>\n",
       "      <td>0.014073</td>\n",
       "      <td>-0.024149</td>\n",
       "      <td>-0.006850</td>\n",
       "      <td>-43.5485</td>\n",
       "      <td>7.42956</td>\n",
       "      <td>44.9308</td>\n",
       "      <td>0.067697</td>\n",
       "      <td>0.746048</td>\n",
       "      <td>0.160246</td>\n",
       "      <td>0.642769</td>\n",
       "    </tr>\n",
       "    <tr>\n",
       "      <th>110918</th>\n",
       "      <td>0</td>\n",
       "      <td>33.625</td>\n",
       "      <td>-7.74241</td>\n",
       "      <td>2.92560</td>\n",
       "      <td>4.91761</td>\n",
       "      <td>-7.72224</td>\n",
       "      <td>3.02227</td>\n",
       "      <td>5.12931</td>\n",
       "      <td>0.049226</td>\n",
       "      <td>-0.010066</td>\n",
       "      <td>...</td>\n",
       "      <td>0.020672</td>\n",
       "      <td>0.020502</td>\n",
       "      <td>0.010129</td>\n",
       "      <td>-43.4371</td>\n",
       "      <td>8.19647</td>\n",
       "      <td>44.9303</td>\n",
       "      <td>0.068013</td>\n",
       "      <td>0.745946</td>\n",
       "      <td>0.160265</td>\n",
       "      <td>0.642848</td>\n",
       "    </tr>\n",
       "  </tbody>\n",
       "</table>\n",
       "<p>5 rows × 52 columns</p>\n",
       "</div>"
      ],
      "text/plain": [
       "        activity_id   imu_0    imu_1    imu_2    imu_3    imu_4    imu_5  \\\n",
       "110914            0  33.625 -7.89597  2.77467  4.87733 -7.61802  2.82523   \n",
       "110915            0  33.625 -7.81023  2.89026  5.14764 -7.63271  2.87064   \n",
       "110916            0  33.625 -7.89142  2.85156  4.99260 -7.60231  2.91572   \n",
       "110917            0  33.625 -7.89142  2.85156  4.99260 -7.69197  2.99189   \n",
       "110918            0  33.625 -7.74241  2.92560  4.91761 -7.72224  3.02227   \n",
       "\n",
       "          imu_6     imu_7     imu_8    ...       imu_41    imu_42    imu_43  \\\n",
       "110914  5.17494  0.030347 -0.032241    ...    -0.008660 -0.017440  0.011271   \n",
       "110915  5.17485  0.077752 -0.026316    ...    -0.051593 -0.026622 -0.002320   \n",
       "110916  5.15962  0.072759 -0.017362    ...    -0.001825  0.009911  0.008395   \n",
       "110917  5.17465  0.034680 -0.032184    ...     0.014073 -0.024149 -0.006850   \n",
       "110918  5.12931  0.049226 -0.010066    ...     0.020672  0.020502  0.010129   \n",
       "\n",
       "         imu_44   imu_45   imu_46    imu_47    imu_48    imu_49    imu_50  \n",
       "110914 -42.7926  8.03642  45.2164  0.068204  0.745913  0.160385  0.642836  \n",
       "110915 -43.5512  7.55844  44.9306  0.067938  0.746003  0.160241  0.642796  \n",
       "110916 -43.5414  7.17214  45.0729  0.067767  0.745992  0.160180  0.642843  \n",
       "110917 -43.5485  7.42956  44.9308  0.067697  0.746048  0.160246  0.642769  \n",
       "110918 -43.4371  8.19647  44.9303  0.068013  0.745946  0.160265  0.642848  \n",
       "\n",
       "[5 rows x 52 columns]"
      ]
     },
     "execution_count": 11,
     "metadata": {},
     "output_type": "execute_result"
    }
   ],
   "source": [
    "df.tail()"
   ]
  },
  {
   "cell_type": "code",
   "execution_count": 86,
   "metadata": {},
   "outputs": [
    {
     "data": {
      "text/plain": [
       "dask.array<values, shape=(nan, 51), dtype=float64, chunksize=(nan, 51)>"
      ]
     },
     "execution_count": 86,
     "metadata": {},
     "output_type": "execute_result"
    }
   ],
   "source": [
    "patient_all_df[columns[1:]].values"
   ]
  },
  {
   "cell_type": "markdown",
   "metadata": {},
   "source": [
    "# Model training "
   ]
  },
  {
   "cell_type": "code",
   "execution_count": 71,
   "metadata": {},
   "outputs": [],
   "source": [
    "patient_all_pd_train, patient_all_pd_test = train_test_split_sk(patient_all_pd, \n",
    "                                                                test_size=0.3, random_state=42)\n"
   ]
  },
  {
   "cell_type": "code",
   "execution_count": 56,
   "metadata": {},
   "outputs": [
    {
     "data": {
      "text/plain": [
       "(1991407, 52)"
      ]
     },
     "execution_count": 56,
     "metadata": {},
     "output_type": "execute_result"
    }
   ],
   "source": [
    "patient_all_pd_train.shape"
   ]
  },
  {
   "cell_type": "code",
   "execution_count": 57,
   "metadata": {},
   "outputs": [
    {
     "data": {
      "text/plain": [
       "(853461, 52)"
      ]
     },
     "execution_count": 57,
     "metadata": {},
     "output_type": "execute_result"
    }
   ],
   "source": [
    "patient_all_pd_test.shape"
   ]
  },
  {
   "cell_type": "code",
   "execution_count": 72,
   "metadata": {},
   "outputs": [
    {
     "name": "stdout",
     "output_type": "stream",
     "text": [
      "CPU times: user 20.6 s, sys: 1.39 s, total: 22 s\n",
      "Wall time: 6.37 s\n"
     ]
    }
   ],
   "source": [
    "%%time\n",
    "#\n",
    "#Train and test split for dask dataframe\n",
    "#\n",
    "\n",
    "\n",
    "import dask.dataframe as dd\n",
    "patient_all_df_train = dd.from_pandas(patient_all_pd_train, npartitions = 10)\n",
    "patient_all_df_train = patient_all_df_train.persist()\n",
    "\n",
    "patient_all_df_test = dd.from_pandas(patient_all_pd_test, npartitions = 10)\n",
    "patient_all_df_test = patient_all_df_test.compute()\n",
    "\n",
    "progress(patient_all_df_train, patient_all_df_test)"
   ]
  },
  {
   "cell_type": "code",
   "execution_count": 58,
   "metadata": {
    "scrolled": true
   },
   "outputs": [
    {
     "name": "stdout",
     "output_type": "stream",
     "text": [
      "\n",
      "CPU times: user 34min 5s, sys: 5.21 s, total: 34min 11s\n",
      "Wall time: 25min 53s\n"
     ]
    }
   ],
   "source": [
    "%%time\n",
    "#Serial executiion of sklearn building 50 trees without any parallelism\n",
    "sk_rf = RF_SK(n_jobs  = 1, n_estimators=50)\n",
    "\n",
    "%mprun sk_rf_model = sk_rf.fit(patient_all_pd_train[columns[1:]], patient_all_pd_train.activity_id)\n",
    "\n",
    "sk_rf = RF_SK(n_jobs=-1, n_estimators=50)\n"
   ]
  },
  {
   "cell_type": "code",
   "execution_count": 34,
   "metadata": {},
   "outputs": [
    {
     "name": "stdout",
     "output_type": "stream",
     "text": [
      "CPU times: user 14 s, sys: 1.89 s, total: 15.9 s\n",
      "Wall time: 1min 18s\n"
     ]
    }
   ],
   "source": [
    "%%time\n",
    "\n",
    "# BUilding Random forest using Dask for 50 trees using 4 workers\n",
    "\n",
    "\n",
    "# from dask_ml.model_selection import train_test_split as train_test_split_df\n",
    "#patient_all_df_train, patient_all_df_test = train_test_split_df(patient_all_df[columns[1:]], patient_all_df.activity_id)\n",
    "#Using 4 workers eith a total of 192 cores and 520 GB memory\n",
    "#Running sklearn for 50 trees with all cores\n",
    "\n",
    "with parallel_backend('dask'):\n",
    "        dask_rf_model = sk_rf.fit(patient_all_df_train[columns[1:]], patient_all_df_train.activity_id)\n",
    "progress(dask_rf_model)"
   ]
  },
  {
   "cell_type": "code",
   "execution_count": 35,
   "metadata": {},
   "outputs": [
    {
     "name": "stdout",
     "output_type": "stream",
     "text": [
      "CPU times: user 46min 42s, sys: 4min 6s, total: 50min 49s\n",
      "Wall time: 1min 29s\n"
     ]
    }
   ],
   "source": [
    "%%time\n",
    "# BUilding Random forest using scikit-learn using all cores\n",
    "\n",
    "sk_rf_model = sk_rf.fit(patient_all_pd_train[columns[1:]], patient_all_pd_train.activity_id)"
   ]
  },
  {
   "cell_type": "code",
   "execution_count": 39,
   "metadata": {},
   "outputs": [
    {
     "data": {
      "text/plain": [
       "(Delayed('int-7b6bb9f6-7fdd-4cf1-a0df-f8d8b1295272'), 52)"
      ]
     },
     "execution_count": 39,
     "metadata": {},
     "output_type": "execute_result"
    }
   ],
   "source": [
    "# client.replicate()"
   ]
  },
  {
   "cell_type": "markdown",
   "metadata": {},
   "source": [
    "# Making predictions"
   ]
  },
  {
   "cell_type": "code",
   "execution_count": 37,
   "metadata": {},
   "outputs": [
    {
     "name": "stdout",
     "output_type": "stream",
     "text": [
      "0.9995711579087972\n",
      "CPU times: user 37.2 s, sys: 1min 28s, total: 2min 5s\n",
      "Wall time: 2.95 s\n"
     ]
    }
   ],
   "source": [
    "%%time\n",
    "\n",
    "#\n",
    "#Calulating the accuracy for the algorithm built using Dask\n",
    "#\n",
    "y_pred = dask_rf_model.predict(patient_all_df_test[columns[1:]])\n",
    "acc_dask = accuracy_score(patient_all_df_test.activity_id, y_pred)\n",
    "print(acc_dask)"
   ]
  },
  {
   "cell_type": "code",
   "execution_count": 38,
   "metadata": {},
   "outputs": [
    {
     "name": "stdout",
     "output_type": "stream",
     "text": [
      "0.9995711579087972\n",
      "CPU times: user 55.4 s, sys: 1min 26s, total: 2min 21s\n",
      "Wall time: 3.16 s\n"
     ]
    }
   ],
   "source": [
    "%%time\n",
    "\n",
    "#\n",
    "#Calculating the accuracy for the algorithm built using Sklearn\n",
    "#\n",
    "\n",
    "y_pred = sk_rf_model.predict(patient_all_pd_test[columns[1:]])\n",
    "acc_sk = accuracy_score(patient_all_pd_test.activity_id, y_pred)\n",
    "print(acc_sk)"
   ]
  },
  {
   "cell_type": "code",
   "execution_count": null,
   "metadata": {},
   "outputs": [],
   "source": [
    "%load_ext memory_profiler"
   ]
  },
  {
   "cell_type": "markdown",
   "metadata": {},
   "source": [
    "# Doing some experiments with a medium sized and large custom dataset"
   ]
  },
  {
   "cell_type": "code",
   "execution_count": 4,
   "metadata": {},
   "outputs": [],
   "source": [
    "from dask_ml.datasets import make_classification\n",
    "from sklearn.datasets import make_classification as sk_make_classf"
   ]
  },
  {
   "cell_type": "code",
   "execution_count": 5,
   "metadata": {
    "collapsed": true
   },
   "outputs": [
    {
     "data": {
      "text/plain": [
       "array([[-0.26713096, -0.4882575 , -2.43008658,  0.78218964,  1.79746173,\n",
       "        -0.16888515, -0.56677967,  0.29882333, -0.09893902,  1.75612743,\n",
       "        -1.82722012, -0.65391374, -0.03029503, -0.82787519,  0.65285578,\n",
       "         1.0543947 , -0.88524403,  1.40167589,  0.80658882, -0.64143233],\n",
       "       [ 0.05807287,  0.99528919,  0.12051257, -0.76374877, -0.68595339,\n",
       "         2.20630364,  0.02161348,  0.37515075, -0.19961594, -0.32758905,\n",
       "        -0.93350546, -1.03831718,  0.21978325, -1.27490547,  0.14761016,\n",
       "         1.37749136,  0.11472287, -0.31900551,  1.24403302, -1.49077402],\n",
       "       [-0.23482836,  0.54239715,  0.03364741, -0.38204206, -1.43249441,\n",
       "        -0.53892947,  1.03913615, -1.00239419,  0.56471407, -0.4381485 ,\n",
       "         1.92879222, -2.27579505, -0.82915498,  1.29838157, -0.11506946,\n",
       "         0.43504248, -0.07223782,  0.94305017,  1.32051199,  0.12346298],\n",
       "       [-0.81819573, -1.08520897,  0.10609962, -0.23298968,  0.05860691,\n",
       "        -0.6041117 , -0.91473755, -1.12212224,  0.83096494, -0.06665516,\n",
       "        -1.42751308,  0.20669904,  0.22413916,  1.03683031,  1.64286957,\n",
       "         0.67508133, -0.92491359,  0.65035118,  1.19153395, -0.95040475],\n",
       "       [ 0.21397653,  0.71767449,  1.62148683,  0.31039607, -2.19917393,\n",
       "         0.64262357, -1.16843787, -1.07052127,  0.73988041,  1.35372928,\n",
       "        -0.40796194,  0.11602193,  0.86485798,  0.09868057,  1.09612896,\n",
       "        -0.10743169,  2.7020713 , -0.40940672, -1.00287293, -0.66333398]])"
      ]
     },
     "execution_count": 5,
     "metadata": {},
     "output_type": "execute_result"
    }
   ],
   "source": [
    "# %%timeit\n",
    "X, y = sk_make_classf(n_samples=1000000, random_state=0)\n",
    "X[:5]"
   ]
  },
  {
   "cell_type": "code",
   "execution_count": 9,
   "metadata": {},
   "outputs": [
    {
     "data": {
      "text/plain": [
       "dask.array<getitem, shape=(5, 20), dtype=float64, chunksize=(5, 20)>"
      ]
     },
     "execution_count": 9,
     "metadata": {},
     "output_type": "execute_result"
    }
   ],
   "source": [
    "# %%timeit\n",
    "X_ds, y_ds = make_classification(n_samples=1000000, random_state = 1, chunks= 1000000/8)\n",
    "X_ds[:5]"
   ]
  },
  {
   "cell_type": "code",
   "execution_count": 6,
   "metadata": {},
   "outputs": [
    {
     "data": {
      "text/plain": [
       "160000112"
      ]
     },
     "execution_count": 6,
     "metadata": {},
     "output_type": "execute_result"
    }
   ],
   "source": [
    "# %%memit \n",
    "import sys\n",
    "sys.getsizeof(X)"
   ]
  },
  {
   "cell_type": "code",
   "execution_count": 10,
   "metadata": {},
   "outputs": [
    {
     "name": "stdout",
     "output_type": "stream",
     "text": [
      "CPU times: user 12.5 s, sys: 947 ms, total: 13.4 s\n",
      "Wall time: 47.1 s\n"
     ]
    }
   ],
   "source": [
    "%%time\n",
    "with parallel_backend('dask'):\n",
    "        dask_rf_model = sk_rf.fit(X_ds, y_ds)\n",
    "progress(dask_rf_model)"
   ]
  },
  {
   "cell_type": "code",
   "execution_count": 11,
   "metadata": {},
   "outputs": [
    {
     "name": "stdout",
     "output_type": "stream",
     "text": [
      "CPU times: user 17min 3s, sys: 3min 47s, total: 20min 50s\n",
      "Wall time: 35.8 s\n"
     ]
    }
   ],
   "source": [
    "%%time\n",
    "sk_rf_model = sk_rf.fit(X, y)"
   ]
  },
  {
   "cell_type": "markdown",
   "metadata": {},
   "source": [
    "# Persisting dataset with 1 million data points"
   ]
  },
  {
   "cell_type": "code",
   "execution_count": 81,
   "metadata": {},
   "outputs": [],
   "source": [
    "#\n",
    "#Genenrating new data points\n",
    "#\n",
    "\n",
    "def get_new_data(no_samples):\n",
    "    \n",
    "    X_ds, y_ds = make_classification(n_samples = no_samples, random_state = 1, chunks= no_samples/8)\n",
    "    X_ds = client.persist(X_ds)\n",
    "    y_ds = client.persist(y_ds)\n",
    "    X, y = sk_make_classf(n_samples=no_samples, random_state=0)\n",
    "    \n",
    "    return(X_ds, y_ds, X, y)"
   ]
  },
  {
   "cell_type": "code",
   "execution_count": 82,
   "metadata": {
    "collapsed": true
   },
   "outputs": [
    {
     "ename": "NameError",
     "evalue": "name 'X_ds' is not defined",
     "output_type": "error",
     "traceback": [
      "\u001b[0;31m---------------------------------------------------------------------------\u001b[0m",
      "\u001b[0;31mNameError\u001b[0m                                 Traceback (most recent call last)",
      "\u001b[0;32m<ipython-input-82-fe4ab9674f3e>\u001b[0m in \u001b[0;36m<module>\u001b[0;34m\u001b[0m\n\u001b[0;32m----> 1\u001b[0;31m \u001b[0mclient\u001b[0m\u001b[0;34m.\u001b[0m\u001b[0mcancel\u001b[0m\u001b[0;34m(\u001b[0m\u001b[0mX_ds\u001b[0m\u001b[0;34m)\u001b[0m\u001b[0;34m\u001b[0m\u001b[0;34m\u001b[0m\u001b[0m\n\u001b[0m\u001b[1;32m      2\u001b[0m \u001b[0mclient\u001b[0m\u001b[0;34m.\u001b[0m\u001b[0mcancel\u001b[0m\u001b[0;34m(\u001b[0m\u001b[0my_ds\u001b[0m\u001b[0;34m)\u001b[0m\u001b[0;34m\u001b[0m\u001b[0;34m\u001b[0m\u001b[0m\n\u001b[1;32m      3\u001b[0m \u001b[0;32mdel\u001b[0m \u001b[0mX_ds\u001b[0m\u001b[0;34m\u001b[0m\u001b[0;34m\u001b[0m\u001b[0m\n\u001b[1;32m      4\u001b[0m \u001b[0;32mdel\u001b[0m \u001b[0my_ds\u001b[0m\u001b[0;34m\u001b[0m\u001b[0;34m\u001b[0m\u001b[0m\n",
      "\u001b[0;31mNameError\u001b[0m: name 'X_ds' is not defined"
     ]
    }
   ],
   "source": [
    "client.cancel(X_ds)\n",
    "client.cancel(y_ds)\n",
    "del X_ds\n",
    "del y_ds"
   ]
  },
  {
   "cell_type": "code",
   "execution_count": 83,
   "metadata": {},
   "outputs": [],
   "source": [
    "#\n",
    "# Creating 1 million data points\n",
    "#\n",
    "\n",
    "X_ds, y_ds, X, y = get_new_data(1000000)"
   ]
  },
  {
   "cell_type": "code",
   "execution_count": 84,
   "metadata": {},
   "outputs": [
    {
     "name": "stdout",
     "output_type": "stream",
     "text": [
      "CPU times: user 3.61 s, sys: 7.33 s, total: 10.9 s\n",
      "Wall time: 40.9 s\n"
     ]
    }
   ],
   "source": [
    "%%time\n",
    "\n",
    "#\n",
    "#Fitting using dask\n",
    "#\n",
    "\n",
    "with parallel_backend('dask'):\n",
    "        dask_rf_model = sk_rf.fit(X_ds, y_ds)\n",
    "progress(dask_rf_model)"
   ]
  },
  {
   "cell_type": "code",
   "execution_count": 85,
   "metadata": {},
   "outputs": [
    {
     "name": "stdout",
     "output_type": "stream",
     "text": [
      "CPU times: user 17min 48s, sys: 2min 29s, total: 20min 17s\n",
      "Wall time: 35.3 s\n"
     ]
    }
   ],
   "source": [
    "%%time\n",
    "\n",
    "#\n",
    "#Fitting with sci-kit learn\n",
    "#\n",
    "\n",
    "sk_rf_model = sk_rf.fit(X, y)"
   ]
  },
  {
   "cell_type": "markdown",
   "metadata": {},
   "source": [
    "# 15 million data points"
   ]
  },
  {
   "cell_type": "code",
   "execution_count": null,
   "metadata": {},
   "outputs": [],
   "source": [
    "client.cancel(X_ds)\n",
    "client.cancel(y_ds)\n",
    "del X_ds\n",
    "del y_ds"
   ]
  },
  {
   "cell_type": "code",
   "execution_count": null,
   "metadata": {},
   "outputs": [],
   "source": [
    "#\n",
    "#Creating 15 million data points\n",
    "#\n",
    "\n",
    "X_ds, y_ds, X, y = get_new_data(15000000)"
   ]
  },
  {
   "cell_type": "code",
   "execution_count": 26,
   "metadata": {},
   "outputs": [
    {
     "name": "stdout",
     "output_type": "stream",
     "text": [
      "CPU times: user 31.3 s, sys: 16.2 s, total: 47.4 s\n",
      "Wall time: 7min 45s\n"
     ]
    }
   ],
   "source": [
    "%%time\n",
    "\n",
    "#\n",
    "# Model fitting using dask\n",
    "#\n",
    "\n",
    "with parallel_backend('dask'):\n",
    "        dask_rf_model = sk_rf.fit(X_ds, y_ds)\n",
    "progress(dask_rf_model)"
   ]
  },
  {
   "cell_type": "code",
   "execution_count": 64,
   "metadata": {},
   "outputs": [
    {
     "name": "stdout",
     "output_type": "stream",
     "text": [
      "CPU times: user 6h 14min 9s, sys: 5min 18s, total: 6h 19min 28s\n",
      "Wall time: 11min 55s\n"
     ]
    }
   ],
   "source": [
    "%%time\n",
    "\n",
    "#\n",
    "#Model fitting using scikit-learn\n",
    "#\n",
    "\n",
    "sk_rf_model = sk_rf.fit(X, y)"
   ]
  },
  {
   "cell_type": "markdown",
   "metadata": {},
   "source": [
    "# Grid Search Using Dask and scikit-learn"
   ]
  },
  {
   "cell_type": "code",
   "execution_count": 76,
   "metadata": {
    "scrolled": true
   },
   "outputs": [
    {
     "name": "stderr",
     "output_type": "stream",
     "text": [
      "/N/u/ronashah/.conda/envs/py36/lib/python3.6/site-packages/sklearn/ensemble/base.py:154: UserWarning: Loky-backed parallel loops cannot be nested below threads, setting n_jobs=1\n",
      "  n_jobs = min(effective_n_jobs(n_jobs), n_estimators)\n",
      "/N/u/ronashah/.conda/envs/py36/lib/python3.6/site-packages/sklearn/ensemble/base.py:154: UserWarning: Loky-backed parallel loops cannot be nested below threads, setting n_jobs=1\n",
      "  n_jobs = min(effective_n_jobs(n_jobs), n_estimators)\n",
      "/N/u/ronashah/.conda/envs/py36/lib/python3.6/site-packages/sklearn/ensemble/base.py:154: UserWarning: Loky-backed parallel loops cannot be nested below threads, setting n_jobs=1\n",
      "  n_jobs = min(effective_n_jobs(n_jobs), n_estimators)\n",
      "/N/u/ronashah/.conda/envs/py36/lib/python3.6/site-packages/sklearn/ensemble/base.py:154: UserWarning: Loky-backed parallel loops cannot be nested below threads, setting n_jobs=1\n",
      "  n_jobs = min(effective_n_jobs(n_jobs), n_estimators)\n",
      "/N/u/ronashah/.conda/envs/py36/lib/python3.6/site-packages/sklearn/ensemble/base.py:154: UserWarning: Loky-backed parallel loops cannot be nested below threads, setting n_jobs=1\n",
      "  n_jobs = min(effective_n_jobs(n_jobs), n_estimators)\n",
      "/N/u/ronashah/.conda/envs/py36/lib/python3.6/site-packages/sklearn/ensemble/base.py:154: UserWarning: Loky-backed parallel loops cannot be nested below threads, setting n_jobs=1\n",
      "  n_jobs = min(effective_n_jobs(n_jobs), n_estimators)\n",
      "/N/u/ronashah/.conda/envs/py36/lib/python3.6/site-packages/sklearn/ensemble/base.py:154: UserWarning: Loky-backed parallel loops cannot be nested below threads, setting n_jobs=1\n",
      "  n_jobs = min(effective_n_jobs(n_jobs), n_estimators)\n",
      "/N/u/ronashah/.conda/envs/py36/lib/python3.6/site-packages/sklearn/ensemble/base.py:154: UserWarning: Loky-backed parallel loops cannot be nested below threads, setting n_jobs=1\n",
      "  n_jobs = min(effective_n_jobs(n_jobs), n_estimators)\n",
      "/N/u/ronashah/.conda/envs/py36/lib/python3.6/site-packages/sklearn/ensemble/base.py:154: UserWarning: Loky-backed parallel loops cannot be nested below threads, setting n_jobs=1\n",
      "  n_jobs = min(effective_n_jobs(n_jobs), n_estimators)\n",
      "/N/u/ronashah/.conda/envs/py36/lib/python3.6/site-packages/sklearn/ensemble/base.py:154: UserWarning: Loky-backed parallel loops cannot be nested below threads, setting n_jobs=1\n",
      "  n_jobs = min(effective_n_jobs(n_jobs), n_estimators)\n",
      "/N/u/ronashah/.conda/envs/py36/lib/python3.6/site-packages/sklearn/ensemble/base.py:154: UserWarning: Loky-backed parallel loops cannot be nested below threads, setting n_jobs=1\n",
      "  n_jobs = min(effective_n_jobs(n_jobs), n_estimators)\n",
      "/N/u/ronashah/.conda/envs/py36/lib/python3.6/site-packages/sklearn/ensemble/base.py:154: UserWarning: Loky-backed parallel loops cannot be nested below threads, setting n_jobs=1\n",
      "  n_jobs = min(effective_n_jobs(n_jobs), n_estimators)\n",
      "/N/u/ronashah/.conda/envs/py36/lib/python3.6/site-packages/sklearn/ensemble/base.py:154: UserWarning: Loky-backed parallel loops cannot be nested below threads, setting n_jobs=1\n",
      "  n_jobs = min(effective_n_jobs(n_jobs), n_estimators)\n",
      "/N/u/ronashah/.conda/envs/py36/lib/python3.6/site-packages/sklearn/ensemble/base.py:154: UserWarning: Loky-backed parallel loops cannot be nested below threads, setting n_jobs=1\n",
      "  n_jobs = min(effective_n_jobs(n_jobs), n_estimators)\n",
      "/N/u/ronashah/.conda/envs/py36/lib/python3.6/site-packages/sklearn/ensemble/base.py:154: UserWarning: Loky-backed parallel loops cannot be nested below threads, setting n_jobs=1\n",
      "  n_jobs = min(effective_n_jobs(n_jobs), n_estimators)\n",
      "/N/u/ronashah/.conda/envs/py36/lib/python3.6/site-packages/sklearn/ensemble/base.py:154: UserWarning: Loky-backed parallel loops cannot be nested below threads, setting n_jobs=1\n",
      "  n_jobs = min(effective_n_jobs(n_jobs), n_estimators)\n",
      "/N/u/ronashah/.conda/envs/py36/lib/python3.6/site-packages/sklearn/ensemble/base.py:154: UserWarning: Loky-backed parallel loops cannot be nested below threads, setting n_jobs=1\n",
      "  n_jobs = min(effective_n_jobs(n_jobs), n_estimators)\n",
      "/N/u/ronashah/.conda/envs/py36/lib/python3.6/site-packages/sklearn/ensemble/base.py:154: UserWarning: Loky-backed parallel loops cannot be nested below threads, setting n_jobs=1\n",
      "  n_jobs = min(effective_n_jobs(n_jobs), n_estimators)\n",
      "/N/u/ronashah/.conda/envs/py36/lib/python3.6/site-packages/sklearn/ensemble/base.py:154: UserWarning: Loky-backed parallel loops cannot be nested below threads, setting n_jobs=1\n",
      "  n_jobs = min(effective_n_jobs(n_jobs), n_estimators)\n",
      "/N/u/ronashah/.conda/envs/py36/lib/python3.6/site-packages/sklearn/ensemble/base.py:154: UserWarning: Loky-backed parallel loops cannot be nested below threads, setting n_jobs=1\n",
      "  n_jobs = min(effective_n_jobs(n_jobs), n_estimators)\n",
      "/N/u/ronashah/.conda/envs/py36/lib/python3.6/site-packages/sklearn/ensemble/base.py:154: UserWarning: Loky-backed parallel loops cannot be nested below threads, setting n_jobs=1\n",
      "  n_jobs = min(effective_n_jobs(n_jobs), n_estimators)\n",
      "/N/u/ronashah/.conda/envs/py36/lib/python3.6/site-packages/sklearn/ensemble/base.py:154: UserWarning: Loky-backed parallel loops cannot be nested below threads, setting n_jobs=1\n",
      "  n_jobs = min(effective_n_jobs(n_jobs), n_estimators)\n",
      "/N/u/ronashah/.conda/envs/py36/lib/python3.6/site-packages/sklearn/ensemble/base.py:154: UserWarning: Loky-backed parallel loops cannot be nested below threads, setting n_jobs=1\n",
      "  n_jobs = min(effective_n_jobs(n_jobs), n_estimators)\n"
     ]
    },
    {
     "name": "stdout",
     "output_type": "stream",
     "text": [
      "CPU times: user 1h 12min 51s, sys: 30min 54s, total: 1h 43min 45s\n",
      "Wall time: 2min 33s\n"
     ]
    }
   ],
   "source": [
    "%%time\n",
    "\n",
    "#\n",
    "#Hyper-parameter tuning using dask\n",
    "#\n",
    "\n",
    "\n",
    "from sklearn.externals.joblib import parallel_backend\n",
    "with parallel_backend('dask'):\n",
    "    # Create the parameter grid based on the results of random search \n",
    "    param_grid = {\n",
    "    'bootstrap': [True],\n",
    "    'max_depth': [8, 9],\n",
    "#     'max_features': [2, 3],\n",
    "#     'min_samples_leaf': [4, 5],\n",
    "#     'min_samples_split': [8, 10],\n",
    "    'n_estimators': [10, 20]\n",
    "    }\n",
    "    # Create a based model\n",
    "    from sklearn.ensemble import RandomForestClassifier\n",
    "    rf = RandomForestClassifier(n_jobs=-1)\n",
    "    import dask_searchcv as dcv\n",
    "    grid_search = dcv.GridSearchCV(estimator = rf, param_grid = param_grid, cv = 3)\n",
    "    grid_search.fit(patient_all_pd[columns[1:]],patient_all_pd.activity_id)\n",
    "    \n",
    "progress(grid_search)"
   ]
  },
  {
   "cell_type": "code",
   "execution_count": 77,
   "metadata": {},
   "outputs": [
    {
     "name": "stdout",
     "output_type": "stream",
     "text": [
      "CPU times: user 8min 55s, sys: 13min 46s, total: 22min 41s\n",
      "Wall time: 4min 3s\n"
     ]
    }
   ],
   "source": [
    "%%time\n",
    "\n",
    "#\n",
    "#Hyper-parameter tuning using scikit-learn\n",
    "#\n",
    "\n",
    "\n",
    "from sklearn.model_selection import GridSearchCV\n",
    "from sklearn.ensemble import RandomForestClassifier\n",
    "rf = RandomForestClassifier(n_jobs = -1)\n",
    "param_grid = {s\n",
    "'bootstrap': [True],\n",
    "'max_depth': [8, 9],\n",
    "# 'max_features': [2, 3],\n",
    "# 'min_samples_leaf': [4, 5],\n",
    "# 'min_samples_split': [8, 10],\n",
    "'n_estimators': [10, 20]\n",
    "}\n",
    "grid_search_sk = GridSearchCV(estimator = rf, param_grid = param_grid, cv = 3)\n",
    "grid_search_sk.fit(patient_all_pd[columns[1:]],patient_all_pd.activity_id)\n"
   ]
  }
 ],
 "metadata": {
  "kernelspec": {
   "display_name": "Python 3",
   "language": "python",
   "name": "python3"
  },
  "language_info": {
   "codemirror_mode": {
    "name": "ipython",
    "version": 3
   },
   "file_extension": ".py",
   "mimetype": "text/x-python",
   "name": "python",
   "nbconvert_exporter": "python",
   "pygments_lexer": "ipython3",
   "version": "3.7.1"
  }
 },
 "nbformat": 4,
 "nbformat_minor": 2
}
